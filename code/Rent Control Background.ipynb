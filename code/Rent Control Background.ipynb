{
 "cells": [
  {
   "cell_type": "code",
   "execution_count": 1,
   "metadata": {},
   "outputs": [],
   "source": [
    "import pandas as pd\n",
    "import numpy as np\n",
    "import matplotlib.pyplot as plt"
   ]
  },
  {
   "cell_type": "markdown",
   "metadata": {},
   "source": [
    "Sources:\n",
    "\n",
    "Statistics: https://www.infoplease.com/us/census/california/housing-statistics\n",
    "\n",
    "Homeownership Rate: https://www.ocregister.com/2019/02/28/californias-homeownership-rate-hits-8-year-high/\n",
    "\n",
    "ballotpedia: https://ballotpedia.org/California_Proposition_21,_Local_Rent_Control_Initiative_(2020)\n",
    "\n",
    "summary of rent laws: https://noonprop21.vote/wp-content/uploads/2020/07/HousingFreeze_FactSheets_4-Comparison_v5.pdf\n",
    "\n",
    "Explanation of AB1482: https://sfrb.org/article/summary-ab-1482-california-tenant-protection-act-2019\n",
    "\n",
    "Explanation of AB1482: https://www.natlawreview.com/article/ab-1482-tenant-protection-act-summary-key-provisions#:~:text=AB%201482%20Applies%20to%20Apartments,one%20member%20is%20a%20corporation."
   ]
  },
  {
   "cell_type": "code",
   "execution_count": 2,
   "metadata": {},
   "outputs": [],
   "source": [
    "own = pd.DataFrame({\n",
    "'category':['Own', 'Rent'],\n",
    "'counts':[56,44]})\n",
    "\n",
    "own['percent'] = (own['counts'] / \n",
    "                  own['counts'].sum()) * 100"
   ]
  },
  {
   "cell_type": "code",
   "execution_count": 3,
   "metadata": {},
   "outputs": [
    {
     "data": {
      "image/png": "[encoded data removed]",
      "text/plain": [
       "<Figure size 432x288 with 1 Axes>"
      ]
     },
     "metadata": {},
     "output_type": "display_data"
    }
   ],
   "source": [
    "cmap = plt.get_cmap('Spectral')\n",
    "colors = ['lightcoral','mediumseagreen']\n",
    "plt.pie(own.counts, autopct='%1.1f%%', labels=own.category, shadow=False, colors=colors, startangle=250)\n",
    "plt.axis('equal')\n",
    "plt.title('Home Ownership')\n",
    "plt.savefig('../image/' + 'Home Ownership' + '.png', bbox_inches = \"tight\", transparent=True)    \n",
    "plt.show()"
   ]
  },
  {
   "cell_type": "code",
   "execution_count": null,
   "metadata": {},
   "outputs": [],
   "source": []
  }
 ],
 "metadata": {
  "kernelspec": {
   "display_name": "Python 3",
   "language": "python",
   "name": "python3"
  },
  "language_info": {
   "codemirror_mode": {
    "name": "ipython",
    "version": 3
   },
   "file_extension": ".py",
   "mimetype": "text/x-python",
   "name": "python",
   "nbconvert_exporter": "python",
   "pygments_lexer": "ipython3",
   "version": "3.7.4"
  }
 },
 "nbformat": 4,
 "nbformat_minor": 4
}
